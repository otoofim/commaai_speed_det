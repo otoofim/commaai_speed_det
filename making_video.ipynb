{
 "cells": [
  {
   "cell_type": "code",
   "execution_count": 1,
   "id": "a7f3e2cc-2f89-4504-9e0e-20b7e7d48bd0",
   "metadata": {},
   "outputs": [],
   "source": [
    "import cv2 as cv2\n",
    "import numpy as np\n",
    "import matplotlib.pyplot as plt\n",
    "import glob\n",
    "import re\n",
    "%matplotlib inline"
   ]
  },
  {
   "cell_type": "code",
   "execution_count": 2,
   "id": "80b684ac",
   "metadata": {},
   "outputs": [],
   "source": [
    "#file 25 gt;  veh speed, yaw, lateral velocity\n",
    "gt_25 = open(\"../signals/data/signal dataset/veh_yaw_latt_25.txt\").readlines()[1:]\n",
    "tmp = [line.split(',')[1:]for line in gt_25]\n",
    "ext_gt = []\n",
    "for i in range(len(tmp)):\n",
    "    ext_gt.append([abs(int(float(gt.strip()))) for gt in tmp[i]])\n",
    "    \n",
    "gt_25 = np.array(ext_gt)\n",
    "gt_25 = gt_25"
   ]
  },
  {
   "cell_type": "code",
   "execution_count": 3,
   "id": "626272fb",
   "metadata": {},
   "outputs": [],
   "source": [
    "nn_winter_25 = open(\"./output/sp_25pred.txt\").readlines()\n",
    "nn_winter_25 = [float(pred.strip()) for pred in nn_winter_25]\n",
    "nn_winter_25 = nn_winter_25"
   ]
  },
  {
   "cell_type": "code",
   "execution_count": 4,
   "id": "71a64880",
   "metadata": {},
   "outputs": [],
   "source": [
    "files = glob.glob('../signals/data/frames/25/frame*.jpg')\n",
    "def last_4chars(x):\n",
    "    x = x.split('/')[-1].split('.')[0]\n",
    "    return int(re.sub(\"frame\", \"\", x))\n",
    "\n",
    "files = sorted(files, key = last_4chars)\n",
    "files = files[650:-1000]"
   ]
  },
  {
   "cell_type": "code",
   "execution_count": 6,
   "id": "7c7721fe",
   "metadata": {},
   "outputs": [],
   "source": [
    "inp = cv2.imread('../signals/data/frames/25/frame1.jpg')\n",
    "height, width, layers = inp.shape\n",
    "size = (width,height)\n",
    "out = cv2.VideoWriter('sec_project.mp4',cv2.VideoWriter_fourcc(*'DIVX'), 25, size)\n",
    "i = 0\n",
    "\n",
    "for i,name in enumerate(files[:10000]):\n",
    "    \n",
    "    inp = cv2.imread(name)\n",
    "    inp = cv2.putText(inp, 'Vehicle speed: {}'.format(gt_25[i,0]), (50,50), cv2.FONT_HERSHEY_SIMPLEX, 1, (255,0,0), 2, cv2.LINE_AA)\n",
    "    inp = cv2.putText(inp, 'Predicted speed: {}'.format(int(nn_winter_25[i])), (50,150), cv2.FONT_HERSHEY_SIMPLEX, 1, (0,0,255), 2, cv2.LINE_AA)\n",
    "    inp = cv2.cvtColor(inp, cv2.COLOR_RGB2BGR)\n",
    "\n",
    "    out.write(cv2.cvtColor(inp, cv2.COLOR_RGB2BGR))\n",
    "\n",
    "out.release()"
   ]
  },
  {
   "cell_type": "code",
   "execution_count": null,
   "id": "45bf684f",
   "metadata": {},
   "outputs": [],
   "source": []
  },
  {
   "cell_type": "code",
   "execution_count": null,
   "id": "0aa6d32b",
   "metadata": {},
   "outputs": [],
   "source": []
  },
  {
   "cell_type": "code",
   "execution_count": null,
   "id": "00bb6c8b",
   "metadata": {},
   "outputs": [],
   "source": []
  },
  {
   "cell_type": "code",
   "execution_count": null,
   "id": "0cb14862",
   "metadata": {},
   "outputs": [],
   "source": []
  },
  {
   "cell_type": "code",
   "execution_count": null,
   "id": "e2257783",
   "metadata": {},
   "outputs": [],
   "source": []
  }
 ],
 "metadata": {
  "kernelspec": {
   "display_name": "3.6",
   "language": "python",
   "name": "3.6"
  },
  "language_info": {
   "codemirror_mode": {
    "name": "ipython",
    "version": 3
   },
   "file_extension": ".py",
   "mimetype": "text/x-python",
   "name": "python",
   "nbconvert_exporter": "python",
   "pygments_lexer": "ipython3",
   "version": "3.6.10"
  }
 },
 "nbformat": 4,
 "nbformat_minor": 5
}
