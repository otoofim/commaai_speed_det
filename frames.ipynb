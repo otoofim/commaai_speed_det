{
 "cells": [
  {
   "cell_type": "code",
   "execution_count": 1,
   "id": "6a9626f9",
   "metadata": {},
   "outputs": [],
   "source": [
    "import cv2\n",
    "import numpy as np"
   ]
  },
  {
   "cell_type": "code",
   "execution_count": 5,
   "id": "77393ecc",
   "metadata": {},
   "outputs": [],
   "source": [
    "def timeVideo(in_add, out_add):\n",
    "    \n",
    "    cap = cv2.VideoCapture(in_add)\n",
    "    ret, frame = cap.read()\n",
    "    count = 1\n",
    "    \n",
    "    while(cap.isOpened()):\n",
    "        if ret:\n",
    "            cv2.imwrite(out_add + \"/frame{}.png\".format(count), frame)\n",
    "            count += 1\n",
    "\n",
    "        else:\n",
    "            break\n",
    "        ret, frame = cap.read()\n",
    "\n",
    "    cap.release()\n",
    "    cv2.destroyAllWindows()\n",
    "    print(count)"
   ]
  },
  {
   "cell_type": "code",
   "execution_count": 6,
   "id": "cd532949",
   "metadata": {},
   "outputs": [
    {
     "name": "stdout",
     "output_type": "stream",
     "text": [
      "10799\n"
     ]
    }
   ],
   "source": [
    "timeVideo(\"./data/test.mp4\", \"./data/frames_test\")"
   ]
  },
  {
   "cell_type": "code",
   "execution_count": null,
   "id": "ab554c81",
   "metadata": {},
   "outputs": [],
   "source": []
  },
  {
   "cell_type": "code",
   "execution_count": null,
   "id": "b2602318",
   "metadata": {},
   "outputs": [],
   "source": []
  },
  {
   "cell_type": "code",
   "execution_count": 1,
   "id": "b9dc33b2",
   "metadata": {},
   "outputs": [],
   "source": [
    "from dataloader import *\n",
    "from torchvision import transforms\n",
    "from torchvision.models import *\n",
    "import matplotlib.pyplot as plt"
   ]
  },
  {
   "cell_type": "code",
   "execution_count": 2,
   "id": "4e9eb9c9",
   "metadata": {},
   "outputs": [],
   "source": [
    "class Resnet50(object):\n",
    "\n",
    "    def __init__(self):\n",
    "        self.resnet50 = wide_resnet50_2(pretrained=True).eval()\n",
    "        self.resnet50 = self.resnet50.to(\"cuda:0\")\n",
    "    def __call__(self, sample):\n",
    "        sample = sample.to(\"cuda:0\")\n",
    "        with torch.no_grad():\n",
    "            out = self.resnet50(sample.unsqueeze(0))\n",
    "            return out.squeeze()"
   ]
  },
  {
   "cell_type": "code",
   "execution_count": 3,
   "id": "9b2ee505",
   "metadata": {},
   "outputs": [],
   "source": [
    "preprocess_in = transforms.Compose([\n",
    "    transforms.ToTensor(),\n",
    "    #transforms.Normalize(mean=[0.485, 0.456, 0.406], std=[0.229, 0.224, 0.225]),\n",
    "    transforms.Resize((240, 240)),\n",
    "    #Resnet50()\n",
    "])"
   ]
  },
  {
   "cell_type": "code",
   "execution_count": 4,
   "id": "afccf61f",
   "metadata": {},
   "outputs": [],
   "source": [
    "tr_loader = winterdata(\"../signals/data/frames\", preprocess_in)\n"
   ]
  },
  {
   "cell_type": "code",
   "execution_count": 14,
   "id": "91263379",
   "metadata": {},
   "outputs": [],
   "source": [
    "tr_loader = winterdata(\"../signals/data/frames\", preprocess_in)\n",
    "#tra, val = random_split(tr_loader, [int(len(tr_loader) * 0.8), int(len(tr_loader) * 0.2)])\n",
    "tra = torch.utils.data.Subset(tr_loader, (range(0, int(len(tr_loader) * 0.8))))\n",
    "val = torch.utils.data.Subset(tr_loader, (range(int(len(tr_loader) * 0.8), len(tr_loader))))\n",
    "\n",
    "\n",
    "train_loader = DataLoader(dataset = tra, batch_size = 32, shuffle = False)\n",
    "val_loader = DataLoader(dataset = val, batch_size = 32, shuffle = False)"
   ]
  },
  {
   "cell_type": "code",
   "execution_count": 15,
   "id": "d8c67029",
   "metadata": {
    "scrolled": true
   },
   "outputs": [
    {
     "name": "stdout",
     "output_type": "stream",
     "text": [
      "0\n",
      "23\n",
      "1\n",
      "23\n",
      "2\n",
      "23\n",
      "3\n",
      "23\n",
      "4\n",
      "23\n",
      "5\n",
      "23\n",
      "6\n",
      "23\n",
      "7\n",
      "23\n",
      "8\n",
      "23\n",
      "9\n",
      "23\n",
      "10\n",
      "23\n",
      "11\n",
      "23\n",
      "12\n",
      "23\n",
      "13\n",
      "23\n",
      "14\n",
      "23\n",
      "15\n",
      "23\n",
      "16\n",
      "23\n",
      "17\n",
      "23\n",
      "18\n",
      "23\n",
      "19\n",
      "23\n",
      "20\n",
      "23\n",
      "21\n",
      "23\n",
      "22\n",
      "23\n",
      "23\n",
      "23\n",
      "24\n",
      "23\n",
      "25\n",
      "23\n",
      "26\n",
      "23\n",
      "27\n",
      "23\n",
      "28\n",
      "23\n",
      "29\n",
      "23\n",
      "30\n",
      "23\n",
      "31\n",
      "23\n",
      "tensor(-0.0100, dtype=torch.float64)\n"
     ]
    },
    {
     "data": {
      "image/png": "[encoded data removed]",
      "text/plain": [
       "<Figure size 432x288 with 1 Axes>"
      ]
     },
     "metadata": {
      "needs_background": "light"
     },
     "output_type": "display_data"
    }
   ],
   "source": [
    "for i in train_loader:\n",
    "    print(i['label'][0])\n",
    "    plt.imshow(i['image'][0].permute(1, 2, 0))\n",
    "    plt.show()\n",
    "    break"
   ]
  },
  {
   "cell_type": "code",
   "execution_count": null,
   "id": "7f632799",
   "metadata": {},
   "outputs": [],
   "source": []
  },
  {
   "cell_type": "code",
   "execution_count": null,
   "id": "5b143f66",
   "metadata": {},
   "outputs": [],
   "source": []
  },
  {
   "cell_type": "code",
   "execution_count": null,
   "id": "3e4dd53b",
   "metadata": {},
   "outputs": [],
   "source": []
  },
  {
   "cell_type": "code",
   "execution_count": null,
   "id": "60e9f4b4",
   "metadata": {},
   "outputs": [],
   "source": []
  },
  {
   "cell_type": "code",
   "execution_count": null,
   "id": "af11badc",
   "metadata": {},
   "outputs": [],
   "source": []
  }
 ],
 "metadata": {
  "kernelspec": {
   "display_name": "Python 3 (ipykernel)",
   "language": "python",
   "name": "python3"
  },
  "language_info": {
   "codemirror_mode": {
    "name": "ipython",
    "version": 3
   },
   "file_extension": ".py",
   "mimetype": "text/x-python",
   "name": "python",
   "nbconvert_exporter": "python",
   "pygments_lexer": "ipython3",
   "version": "3.6.10"
  }
 },
 "nbformat": 4,
 "nbformat_minor": 5
}
