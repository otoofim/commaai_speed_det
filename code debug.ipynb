{
 "cells": [
  {
   "cell_type": "code",
   "execution_count": 1,
   "id": "ded2d62f",
   "metadata": {},
   "outputs": [],
   "source": [
    "from dataloader import *\n",
    "from torchvision import transforms\n",
    "from torchvision.models import *\n",
    "import matplotlib.pyplot as plt\n",
    "import torchvision.models as models\n",
    "from torchvision import transforms\n",
    "from dataloader import *\n",
    "import numpy as np\n",
    "import torch\n",
    "from torch.utils.data import DataLoader\n",
    "from matplotlib import pyplot as plt\n",
    "import torch.optim as optim\n",
    "from tqdm import tqdm\n",
    "from torch.utils.tensorboard import SummaryWriter\n",
    "import torchvision\n",
    "import wandb\n",
    "from arch import *\n",
    "import os\n",
    "import warnings\n",
    "warnings.filterwarnings(\"ignore\")"
   ]
  },
  {
   "cell_type": "code",
   "execution_count": 8,
   "id": "c67305cd",
   "metadata": {},
   "outputs": [
    {
     "data": {
      "text/plain": [
       "torch.Size([20, 33, 101, 201])"
      ]
     },
     "execution_count": 8,
     "metadata": {},
     "output_type": "execute_result"
    }
   ],
   "source": [
    "# With square kernels and equal stride\n",
    "m = nn.ConvTranspose2d(16, 33, 3, stride=2)\n",
    "# non-square kernels and unequal stride and with padding\n",
    "input = torch.randn(20, 16, 50, 100)\n",
    "output = m(input)\n",
    "output.size()"
   ]
  },
  {
   "cell_type": "code",
   "execution_count": 28,
   "id": "686e191b",
   "metadata": {},
   "outputs": [],
   "source": [
    "preprocess_in = transforms.Compose([\n",
    "    transforms.ToTensor(),\n",
    "    #transforms.Normalize(mean=[0.485, 0.456, 0.406], std=[0.229, 0.224, 0.225]),\n",
    "    transforms.Resize((66, 256)),\n",
    "    #Resnet50()\n",
    "])"
   ]
  },
  {
   "cell_type": "code",
   "execution_count": 29,
   "id": "7dc9a609",
   "metadata": {},
   "outputs": [],
   "source": [
    "tr_loader = winterdata(\"../signals/data/signal dataset\", preprocess_in)\n",
    "#tra, val = random_split(tr_loader, [int(len(tr_loader) * 0.8), int(len(tr_loader) * 0.2)])\n",
    "tra = torch.utils.data.Subset(tr_loader, (range(0, int(len(tr_loader) * 0.8))))\n",
    "val = torch.utils.data.Subset(tr_loader, (range(int(len(tr_loader) * 0.8), len(tr_loader))))\n",
    "\n",
    "\n",
    "train_loader = DataLoader(dataset = tra, batch_size = 10, shuffle = True)\n",
    "val_loader = DataLoader(dataset = val, batch_size = 1, shuffle = False)\n",
    "\n",
    "\n",
    "model = half_UNet((66, 256), out_channels = 3)"
   ]
  },
  {
   "cell_type": "code",
   "execution_count": 30,
   "id": "c645dc9a",
   "metadata": {},
   "outputs": [
    {
     "name": "stdout",
     "output_type": "stream",
     "text": [
      "torch.Size([10, 3])\n",
      "tensor([[ 4,  0,  0],\n",
      "        [ 9,  0,  0],\n",
      "        [ 4,  7,  0],\n",
      "        [ 6,  1,  0],\n",
      "        [ 1,  0,  0],\n",
      "        [15,  0,  0],\n",
      "        [ 4,  1,  0],\n",
      "        [ 0,  0,  0],\n",
      "        [11,  0,  0],\n",
      "        [10,  2,  0]])\n",
      "tensor([[ 0.0136, -0.0069, -0.0076],\n",
      "        [ 0.0136, -0.0069, -0.0076],\n",
      "        [ 0.0136, -0.0069, -0.0076],\n",
      "        [ 0.0136, -0.0069, -0.0076],\n",
      "        [ 0.0136, -0.0069, -0.0076],\n",
      "        [ 0.0136, -0.0069, -0.0076],\n",
      "        [ 0.0136, -0.0069, -0.0076],\n",
      "        [ 0.0136, -0.0069, -0.0076],\n",
      "        [ 0.0136, -0.0069, -0.0076],\n",
      "        [ 0.0136, -0.0069, -0.0076]], grad_fn=<SqueezeBackward1>)\n"
     ]
    },
    {
     "data": {
      "image/png": "[encoded data removed]",
      "text/plain": [
       "<Figure size 432x288 with 1 Axes>"
      ]
     },
     "metadata": {
      "needs_background": "light"
     },
     "output_type": "display_data"
    }
   ],
   "source": [
    "for batch in train_loader:\n",
    "    out = model.eval()(batch['image'])\n",
    "    print(out.shape)\n",
    "    #print(len(batch['label'].view(32,3)))\n",
    "    print(batch['label'])\n",
    "    print(out)\n",
    "    plt.imshow(batch['image'][0].permute(1, 2, 0))\n",
    "    plt.show()\n",
    "    break"
   ]
  },
  {
   "cell_type": "code",
   "execution_count": null,
   "id": "c7b5f75c",
   "metadata": {},
   "outputs": [],
   "source": []
  },
  {
   "cell_type": "code",
   "execution_count": null,
   "id": "42ec1565",
   "metadata": {},
   "outputs": [],
   "source": []
  },
  {
   "cell_type": "code",
   "execution_count": null,
   "id": "b640da9f",
   "metadata": {},
   "outputs": [],
   "source": []
  },
  {
   "cell_type": "code",
   "execution_count": null,
   "id": "e8e83ae6",
   "metadata": {},
   "outputs": [],
   "source": []
  },
  {
   "cell_type": "code",
   "execution_count": null,
   "id": "07b08679",
   "metadata": {},
   "outputs": [],
   "source": []
  },
  {
   "cell_type": "code",
   "execution_count": null,
   "id": "3377ca28",
   "metadata": {},
   "outputs": [],
   "source": []
  }
 ],
 "metadata": {
  "kernelspec": {
   "display_name": "Python 3 (ipykernel)",
   "language": "python",
   "name": "python3"
  },
  "language_info": {
   "codemirror_mode": {
    "name": "ipython",
    "version": 3
   },
   "file_extension": ".py",
   "mimetype": "text/x-python",
   "name": "python",
   "nbconvert_exporter": "python",
   "pygments_lexer": "ipython3",
   "version": "3.6.10"
  }
 },
 "nbformat": 4,
 "nbformat_minor": 5
}
